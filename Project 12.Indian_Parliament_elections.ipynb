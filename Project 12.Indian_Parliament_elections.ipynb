{
 "cells": [
  {
   "cell_type": "code",
   "execution_count": 1,
   "id": "26e35ed5",
   "metadata": {},
   "outputs": [
    {
     "data": {
      "text/html": [
       "<div>\n",
       "<style scoped>\n",
       "    .dataframe tbody tr th:only-of-type {\n",
       "        vertical-align: middle;\n",
       "    }\n",
       "\n",
       "    .dataframe tbody tr th {\n",
       "        vertical-align: top;\n",
       "    }\n",
       "\n",
       "    .dataframe thead th {\n",
       "        text-align: right;\n",
       "    }\n",
       "</style>\n",
       "<table border=\"1\" class=\"dataframe\">\n",
       "  <thead>\n",
       "    <tr style=\"text-align: right;\">\n",
       "      <th></th>\n",
       "      <th>Political Party</th>\n",
       "      <th>No of Candidates</th>\n",
       "      <th>Seats Won</th>\n",
       "      <th>Votes</th>\n",
       "      <th>Percentage</th>\n",
       "      <th>year</th>\n",
       "      <th>Unnamed: 6</th>\n",
       "      <th>Unnamed: 7</th>\n",
       "    </tr>\n",
       "  </thead>\n",
       "  <tbody>\n",
       "    <tr>\n",
       "      <th>0</th>\n",
       "      <td>Bharatiya Lok Dal BLD</td>\n",
       "      <td>3</td>\n",
       "      <td>0</td>\n",
       "      <td>637206</td>\n",
       "      <td>7.19</td>\n",
       "      <td>1977</td>\n",
       "      <td>NaN</td>\n",
       "      <td>NaN</td>\n",
       "    </tr>\n",
       "    <tr>\n",
       "      <th>1</th>\n",
       "      <td>Communist Party of India CPI</td>\n",
       "      <td>4</td>\n",
       "      <td>4</td>\n",
       "      <td>919359</td>\n",
       "      <td>10.38</td>\n",
       "      <td>1977</td>\n",
       "      <td>NaN</td>\n",
       "      <td>NaN</td>\n",
       "    </tr>\n",
       "    <tr>\n",
       "      <th>2</th>\n",
       "      <td>Communist Party of India (Marxist) CPM</td>\n",
       "      <td>9</td>\n",
       "      <td>0</td>\n",
       "      <td>1800193</td>\n",
       "      <td>20.33</td>\n",
       "      <td>1977</td>\n",
       "      <td>NaN</td>\n",
       "      <td>NaN</td>\n",
       "    </tr>\n",
       "    <tr>\n",
       "      <th>3</th>\n",
       "      <td>Indian National Congress (Indira) INCI</td>\n",
       "      <td>11</td>\n",
       "      <td>11</td>\n",
       "      <td>2579745</td>\n",
       "      <td>29.13</td>\n",
       "      <td>1977</td>\n",
       "      <td>NaN</td>\n",
       "      <td>NaN</td>\n",
       "    </tr>\n",
       "    <tr>\n",
       "      <th>4</th>\n",
       "      <td>Others / Independents IND</td>\n",
       "      <td>23</td>\n",
       "      <td>0</td>\n",
       "      <td>214261</td>\n",
       "      <td>2.42</td>\n",
       "      <td>1977</td>\n",
       "      <td>NaN</td>\n",
       "      <td>NaN</td>\n",
       "    </tr>\n",
       "    <tr>\n",
       "      <th>...</th>\n",
       "      <td>...</td>\n",
       "      <td>...</td>\n",
       "      <td>...</td>\n",
       "      <td>...</td>\n",
       "      <td>...</td>\n",
       "      <td>...</td>\n",
       "      <td>...</td>\n",
       "      <td>...</td>\n",
       "    </tr>\n",
       "    <tr>\n",
       "      <th>186</th>\n",
       "      <td>Secular Democratic Congress SDC</td>\n",
       "      <td>2</td>\n",
       "      <td>0</td>\n",
       "      <td>804</td>\n",
       "      <td>0.00</td>\n",
       "      <td>2019</td>\n",
       "      <td>NaN</td>\n",
       "      <td>NaN</td>\n",
       "    </tr>\n",
       "    <tr>\n",
       "      <th>187</th>\n",
       "      <td>Social Democratic Party of India SDPI</td>\n",
       "      <td>10</td>\n",
       "      <td>0</td>\n",
       "      <td>80111</td>\n",
       "      <td>0.39</td>\n",
       "      <td>2019</td>\n",
       "      <td>NaN</td>\n",
       "      <td>NaN</td>\n",
       "    </tr>\n",
       "    <tr>\n",
       "      <th>188</th>\n",
       "      <td>Samajwadi Forward Block SFB</td>\n",
       "      <td>1</td>\n",
       "      <td>0</td>\n",
       "      <td>932</td>\n",
       "      <td>0.00</td>\n",
       "      <td>2019</td>\n",
       "      <td>NaN</td>\n",
       "      <td>NaN</td>\n",
       "    </tr>\n",
       "    <tr>\n",
       "      <th>189</th>\n",
       "      <td>Socialist Unity Centre of India (Communist) S...</td>\n",
       "      <td>9</td>\n",
       "      <td>0</td>\n",
       "      <td>11527</td>\n",
       "      <td>0.06</td>\n",
       "      <td>2019</td>\n",
       "      <td>NaN</td>\n",
       "      <td>NaN</td>\n",
       "    </tr>\n",
       "    <tr>\n",
       "      <th>190</th>\n",
       "      <td>Viduthalai Chirutahikal Katchi VCK</td>\n",
       "      <td>1</td>\n",
       "      <td>0</td>\n",
       "      <td>1628</td>\n",
       "      <td>0.01</td>\n",
       "      <td>2019</td>\n",
       "      <td>NaN</td>\n",
       "      <td>NaN</td>\n",
       "    </tr>\n",
       "  </tbody>\n",
       "</table>\n",
       "<p>191 rows × 8 columns</p>\n",
       "</div>"
      ],
      "text/plain": [
       "                                       Political Party  No of Candidates  \\\n",
       "0                                Bharatiya Lok Dal BLD                 3   \n",
       "1                         Communist Party of India CPI                 4   \n",
       "2               Communist Party of India (Marxist) CPM                 9   \n",
       "3               Indian National Congress (Indira) INCI                11   \n",
       "4                            Others / Independents IND                23   \n",
       "..                                                 ...               ...   \n",
       "186                   Secular Democratic Congress SDC                  2   \n",
       "187             Social Democratic Party of India SDPI                 10   \n",
       "188                       Samajwadi Forward Block SFB                  1   \n",
       "189   Socialist Unity Centre of India (Communist) S...                 9   \n",
       "190                Viduthalai Chirutahikal Katchi VCK                  1   \n",
       "\n",
       "     Seats Won    Votes  Percentage  year  Unnamed: 6 Unnamed: 7  \n",
       "0            0   637206        7.19  1977         NaN        NaN  \n",
       "1            4   919359       10.38  1977         NaN        NaN  \n",
       "2            0  1800193       20.33  1977         NaN        NaN  \n",
       "3           11  2579745       29.13  1977         NaN        NaN  \n",
       "4            0   214261        2.42  1977         NaN        NaN  \n",
       "..         ...      ...         ...   ...         ...        ...  \n",
       "186          0      804        0.00  2019         NaN        NaN  \n",
       "187          0    80111        0.39  2019         NaN        NaN  \n",
       "188          0      932        0.00  2019         NaN        NaN  \n",
       "189          0    11527        0.06  2019         NaN        NaN  \n",
       "190          0     1628        0.01  2019         NaN        NaN  \n",
       "\n",
       "[191 rows x 8 columns]"
      ]
     },
     "execution_count": 1,
     "metadata": {},
     "output_type": "execute_result"
    }
   ],
   "source": [
    "import pandas as pd\n",
    "import matplotlib.pyplot as plt\n",
    "import seaborn as sns\n",
    "import numpy as np\n",
    "ipe=pd.read_excel('Indian_Parliament_elections.xlsx')\n",
    "ipe"
   ]
  },
  {
   "cell_type": "code",
   "execution_count": 2,
   "id": "633ccd28",
   "metadata": {},
   "outputs": [
    {
     "data": {
      "text/html": [
       "<div>\n",
       "<style scoped>\n",
       "    .dataframe tbody tr th:only-of-type {\n",
       "        vertical-align: middle;\n",
       "    }\n",
       "\n",
       "    .dataframe tbody tr th {\n",
       "        vertical-align: top;\n",
       "    }\n",
       "\n",
       "    .dataframe thead th {\n",
       "        text-align: right;\n",
       "    }\n",
       "</style>\n",
       "<table border=\"1\" class=\"dataframe\">\n",
       "  <thead>\n",
       "    <tr style=\"text-align: right;\">\n",
       "      <th></th>\n",
       "      <th>Political Party</th>\n",
       "      <th>No of Candidates</th>\n",
       "      <th>Seats Won</th>\n",
       "      <th>Votes</th>\n",
       "      <th>Percentage</th>\n",
       "      <th>year</th>\n",
       "      <th>Unnamed: 6</th>\n",
       "      <th>Unnamed: 7</th>\n",
       "    </tr>\n",
       "  </thead>\n",
       "  <tbody>\n",
       "    <tr>\n",
       "      <th>0</th>\n",
       "      <td>Bharatiya Lok Dal BLD</td>\n",
       "      <td>3</td>\n",
       "      <td>0</td>\n",
       "      <td>637206</td>\n",
       "      <td>7.19</td>\n",
       "      <td>1977</td>\n",
       "      <td>NaN</td>\n",
       "      <td>NaN</td>\n",
       "    </tr>\n",
       "    <tr>\n",
       "      <th>1</th>\n",
       "      <td>Communist Party of India CPI</td>\n",
       "      <td>4</td>\n",
       "      <td>4</td>\n",
       "      <td>919359</td>\n",
       "      <td>10.38</td>\n",
       "      <td>1977</td>\n",
       "      <td>NaN</td>\n",
       "      <td>NaN</td>\n",
       "    </tr>\n",
       "    <tr>\n",
       "      <th>2</th>\n",
       "      <td>Communist Party of India (Marxist) CPM</td>\n",
       "      <td>9</td>\n",
       "      <td>0</td>\n",
       "      <td>1800193</td>\n",
       "      <td>20.33</td>\n",
       "      <td>1977</td>\n",
       "      <td>NaN</td>\n",
       "      <td>NaN</td>\n",
       "    </tr>\n",
       "    <tr>\n",
       "      <th>3</th>\n",
       "      <td>Indian National Congress (Indira) INCI</td>\n",
       "      <td>11</td>\n",
       "      <td>11</td>\n",
       "      <td>2579745</td>\n",
       "      <td>29.13</td>\n",
       "      <td>1977</td>\n",
       "      <td>NaN</td>\n",
       "      <td>NaN</td>\n",
       "    </tr>\n",
       "    <tr>\n",
       "      <th>4</th>\n",
       "      <td>Others / Independents IND</td>\n",
       "      <td>23</td>\n",
       "      <td>0</td>\n",
       "      <td>214261</td>\n",
       "      <td>2.42</td>\n",
       "      <td>1977</td>\n",
       "      <td>NaN</td>\n",
       "      <td>NaN</td>\n",
       "    </tr>\n",
       "    <tr>\n",
       "      <th>5</th>\n",
       "      <td>Indian Union Muslim League IUML</td>\n",
       "      <td>2</td>\n",
       "      <td>2</td>\n",
       "      <td>533726</td>\n",
       "      <td>6.03</td>\n",
       "      <td>1977</td>\n",
       "      <td>NaN</td>\n",
       "      <td>NaN</td>\n",
       "    </tr>\n",
       "    <tr>\n",
       "      <th>6</th>\n",
       "      <td>Kerala Congress KC</td>\n",
       "      <td>2</td>\n",
       "      <td>2</td>\n",
       "      <td>491674</td>\n",
       "      <td>5.55</td>\n",
       "      <td>1977</td>\n",
       "      <td>NaN</td>\n",
       "      <td>NaN</td>\n",
       "    </tr>\n",
       "    <tr>\n",
       "      <th>7</th>\n",
       "      <td>Kerala Congress (Pillai) KCB alias KCP</td>\n",
       "      <td>3</td>\n",
       "      <td>0</td>\n",
       "      <td>526937</td>\n",
       "      <td>5.95</td>\n",
       "      <td>1977</td>\n",
       "      <td>NaN</td>\n",
       "      <td>-</td>\n",
       "    </tr>\n",
       "    <tr>\n",
       "      <th>8</th>\n",
       "      <td>Muslim League (Opposition) MLO</td>\n",
       "      <td>2</td>\n",
       "      <td>0</td>\n",
       "      <td>319039</td>\n",
       "      <td>3.60</td>\n",
       "      <td>1977</td>\n",
       "      <td>NaN</td>\n",
       "      <td>NaN</td>\n",
       "    </tr>\n",
       "    <tr>\n",
       "      <th>9</th>\n",
       "      <td>Independents (Opposition Front) OF</td>\n",
       "      <td>3</td>\n",
       "      <td>0</td>\n",
       "      <td>561709</td>\n",
       "      <td>6.34</td>\n",
       "      <td>1977</td>\n",
       "      <td>NaN</td>\n",
       "      <td>NaN</td>\n",
       "    </tr>\n",
       "  </tbody>\n",
       "</table>\n",
       "</div>"
      ],
      "text/plain": [
       "                          Political Party  No of Candidates  Seats Won  \\\n",
       "0                   Bharatiya Lok Dal BLD                 3          0   \n",
       "1            Communist Party of India CPI                 4          4   \n",
       "2  Communist Party of India (Marxist) CPM                 9          0   \n",
       "3  Indian National Congress (Indira) INCI                11         11   \n",
       "4               Others / Independents IND                23          0   \n",
       "5         Indian Union Muslim League IUML                 2          2   \n",
       "6                      Kerala Congress KC                 2          2   \n",
       "7  Kerala Congress (Pillai) KCB alias KCP                 3          0   \n",
       "8          Muslim League (Opposition) MLO                 2          0   \n",
       "9      Independents (Opposition Front) OF                 3          0   \n",
       "\n",
       "     Votes  Percentage  year  Unnamed: 6 Unnamed: 7  \n",
       "0   637206        7.19  1977         NaN        NaN  \n",
       "1   919359       10.38  1977         NaN        NaN  \n",
       "2  1800193       20.33  1977         NaN        NaN  \n",
       "3  2579745       29.13  1977         NaN        NaN  \n",
       "4   214261        2.42  1977         NaN        NaN  \n",
       "5   533726        6.03  1977         NaN        NaN  \n",
       "6   491674        5.55  1977         NaN        NaN  \n",
       "7   526937        5.95  1977         NaN          -  \n",
       "8   319039        3.60  1977         NaN        NaN  \n",
       "9   561709        6.34  1977         NaN        NaN  "
      ]
     },
     "execution_count": 2,
     "metadata": {},
     "output_type": "execute_result"
    }
   ],
   "source": [
    "ipe.head(10)\n"
   ]
  },
  {
   "cell_type": "code",
   "execution_count": 11,
   "id": "a487c1d4",
   "metadata": {},
   "outputs": [],
   "source": [
    "#ipe.drop(['Unnamed: 6','Unnamed: 7'],axis=1,inplace=True)\n",
    "#ipe"
   ]
  },
  {
   "cell_type": "code",
   "execution_count": 4,
   "id": "7f87cf81",
   "metadata": {},
   "outputs": [
    {
     "data": {
      "text/plain": [
       "(191, 8)"
      ]
     },
     "execution_count": 4,
     "metadata": {},
     "output_type": "execute_result"
    }
   ],
   "source": [
    "ipe.shape"
   ]
  },
  {
   "cell_type": "code",
   "execution_count": 12,
   "id": "27bfb07a",
   "metadata": {},
   "outputs": [
    {
     "data": {
      "text/html": [
       "<div>\n",
       "<style scoped>\n",
       "    .dataframe tbody tr th:only-of-type {\n",
       "        vertical-align: middle;\n",
       "    }\n",
       "\n",
       "    .dataframe tbody tr th {\n",
       "        vertical-align: top;\n",
       "    }\n",
       "\n",
       "    .dataframe thead th {\n",
       "        text-align: right;\n",
       "    }\n",
       "</style>\n",
       "<table border=\"1\" class=\"dataframe\">\n",
       "  <thead>\n",
       "    <tr style=\"text-align: right;\">\n",
       "      <th></th>\n",
       "      <th>Political Party</th>\n",
       "      <th>No of Candidates</th>\n",
       "      <th>Seats Won</th>\n",
       "      <th>Votes</th>\n",
       "      <th>Percentage</th>\n",
       "      <th>year</th>\n",
       "    </tr>\n",
       "  </thead>\n",
       "  <tbody>\n",
       "    <tr>\n",
       "      <th>0</th>\n",
       "      <td>False</td>\n",
       "      <td>False</td>\n",
       "      <td>False</td>\n",
       "      <td>False</td>\n",
       "      <td>False</td>\n",
       "      <td>False</td>\n",
       "    </tr>\n",
       "    <tr>\n",
       "      <th>1</th>\n",
       "      <td>False</td>\n",
       "      <td>False</td>\n",
       "      <td>False</td>\n",
       "      <td>False</td>\n",
       "      <td>False</td>\n",
       "      <td>False</td>\n",
       "    </tr>\n",
       "    <tr>\n",
       "      <th>2</th>\n",
       "      <td>False</td>\n",
       "      <td>False</td>\n",
       "      <td>False</td>\n",
       "      <td>False</td>\n",
       "      <td>False</td>\n",
       "      <td>False</td>\n",
       "    </tr>\n",
       "    <tr>\n",
       "      <th>3</th>\n",
       "      <td>False</td>\n",
       "      <td>False</td>\n",
       "      <td>False</td>\n",
       "      <td>False</td>\n",
       "      <td>False</td>\n",
       "      <td>False</td>\n",
       "    </tr>\n",
       "    <tr>\n",
       "      <th>4</th>\n",
       "      <td>False</td>\n",
       "      <td>False</td>\n",
       "      <td>False</td>\n",
       "      <td>False</td>\n",
       "      <td>False</td>\n",
       "      <td>False</td>\n",
       "    </tr>\n",
       "    <tr>\n",
       "      <th>...</th>\n",
       "      <td>...</td>\n",
       "      <td>...</td>\n",
       "      <td>...</td>\n",
       "      <td>...</td>\n",
       "      <td>...</td>\n",
       "      <td>...</td>\n",
       "    </tr>\n",
       "    <tr>\n",
       "      <th>186</th>\n",
       "      <td>False</td>\n",
       "      <td>False</td>\n",
       "      <td>False</td>\n",
       "      <td>False</td>\n",
       "      <td>False</td>\n",
       "      <td>False</td>\n",
       "    </tr>\n",
       "    <tr>\n",
       "      <th>187</th>\n",
       "      <td>False</td>\n",
       "      <td>False</td>\n",
       "      <td>False</td>\n",
       "      <td>False</td>\n",
       "      <td>False</td>\n",
       "      <td>False</td>\n",
       "    </tr>\n",
       "    <tr>\n",
       "      <th>188</th>\n",
       "      <td>False</td>\n",
       "      <td>False</td>\n",
       "      <td>False</td>\n",
       "      <td>False</td>\n",
       "      <td>False</td>\n",
       "      <td>False</td>\n",
       "    </tr>\n",
       "    <tr>\n",
       "      <th>189</th>\n",
       "      <td>False</td>\n",
       "      <td>False</td>\n",
       "      <td>False</td>\n",
       "      <td>False</td>\n",
       "      <td>False</td>\n",
       "      <td>False</td>\n",
       "    </tr>\n",
       "    <tr>\n",
       "      <th>190</th>\n",
       "      <td>False</td>\n",
       "      <td>False</td>\n",
       "      <td>False</td>\n",
       "      <td>False</td>\n",
       "      <td>False</td>\n",
       "      <td>False</td>\n",
       "    </tr>\n",
       "  </tbody>\n",
       "</table>\n",
       "<p>191 rows × 6 columns</p>\n",
       "</div>"
      ],
      "text/plain": [
       "     Political Party  No of Candidates  Seats Won  Votes  Percentage   year\n",
       "0              False             False      False  False       False  False\n",
       "1              False             False      False  False       False  False\n",
       "2              False             False      False  False       False  False\n",
       "3              False             False      False  False       False  False\n",
       "4              False             False      False  False       False  False\n",
       "..               ...               ...        ...    ...         ...    ...\n",
       "186            False             False      False  False       False  False\n",
       "187            False             False      False  False       False  False\n",
       "188            False             False      False  False       False  False\n",
       "189            False             False      False  False       False  False\n",
       "190            False             False      False  False       False  False\n",
       "\n",
       "[191 rows x 6 columns]"
      ]
     },
     "execution_count": 12,
     "metadata": {},
     "output_type": "execute_result"
    }
   ],
   "source": [
    "ipe.isna()"
   ]
  },
  {
   "cell_type": "code",
   "execution_count": 6,
   "id": "2e3a1045",
   "metadata": {},
   "outputs": [
    {
     "data": {
      "text/plain": [
       "Communist Party of India (Marxist) CPM                 4\n",
       "Indian National Congress (Indira) INCI                 4\n",
       "Others / Independents IND                              4\n",
       "Indian Union Muslim League IUML                        4\n",
       " Bharatiya Janata Party BJP                            4\n",
       "                                                      ..\n",
       "  Indian National Congress (Indira) INCI               1\n",
       " Independents DLP                                      1\n",
       "  Communist Party of India (Marxist-Leninist) CPML     1\n",
       " UDF supported Independents UDF                        1\n",
       " Samajwadi Forward Block SFB                           1\n",
       "Name: Political Party, Length: 122, dtype: int64"
      ]
     },
     "execution_count": 6,
     "metadata": {},
     "output_type": "execute_result"
    }
   ],
   "source": [
    "# 1 .Find total number of Political Party\n",
    "ipe['Political Party'].value_counts()"
   ]
  },
  {
   "cell_type": "code",
   "execution_count": 8,
   "id": "63b5b93b",
   "metadata": {},
   "outputs": [
    {
     "data": {
      "text/plain": [
       "191"
      ]
     },
     "execution_count": 8,
     "metadata": {},
     "output_type": "execute_result"
    }
   ],
   "source": [
    "# 2.Find Number of Political Party\n",
    "ipe['Political Party'].count()"
   ]
  },
  {
   "cell_type": "code",
   "execution_count": 15,
   "id": "980835ed",
   "metadata": {},
   "outputs": [
    {
     "data": {
      "text/plain": [
       "141631467"
      ]
     },
     "execution_count": 15,
     "metadata": {},
     "output_type": "execute_result"
    }
   ],
   "source": [
    "# 3.Find total number of Votes\n",
    "ipe['Votes'].sum()"
   ]
  },
  {
   "cell_type": "code",
   "execution_count": 13,
   "id": "84c9796f",
   "metadata": {},
   "outputs": [
    {
     "data": {
      "text/plain": [
       "Index(['Political Party', 'No of Candidates', 'Seats Won', 'Votes',\n",
       "       'Percentage', 'year'],\n",
       "      dtype='object')"
      ]
     },
     "execution_count": 13,
     "metadata": {},
     "output_type": "execute_result"
    }
   ],
   "source": [
    "ipe.columns"
   ]
  },
  {
   "cell_type": "code",
   "execution_count": 16,
   "id": "cdb5b4cc",
   "metadata": {},
   "outputs": [
    {
     "data": {
      "text/plain": [
       "741526.0052356021"
      ]
     },
     "execution_count": 16,
     "metadata": {},
     "output_type": "execute_result"
    }
   ],
   "source": [
    "# 4.Find Average of Votes\n",
    "ipe['Votes'].mean()"
   ]
  },
  {
   "cell_type": "code",
   "execution_count": 17,
   "id": "d86fcb22",
   "metadata": {},
   "outputs": [
    {
     "data": {
      "text/plain": [
       "7596610"
      ]
     },
     "execution_count": 17,
     "metadata": {},
     "output_type": "execute_result"
    }
   ],
   "source": [
    "# 5.Find Max of Votes\n",
    "ipe['Votes'].max()"
   ]
  },
  {
   "cell_type": "code",
   "execution_count": 18,
   "id": "4c3a40f9",
   "metadata": {},
   "outputs": [
    {
     "data": {
      "text/plain": [
       "261"
      ]
     },
     "execution_count": 18,
     "metadata": {},
     "output_type": "execute_result"
    }
   ],
   "source": [
    "# 6.Find Mini of Votes\n",
    "ipe['Votes'].min()"
   ]
  },
  {
   "cell_type": "code",
   "execution_count": 20,
   "id": "525cacf5",
   "metadata": {},
   "outputs": [
    {
     "data": {
      "text/plain": [
       "Political Party\n",
       "  All Kerala MGR Dravida Munnetra Party ADMP           1\n",
       "  Communist Party of India (Marxist-Leninist) CPML     1\n",
       "  Communist Party of India (Marxist-Leninist) CPML     1\n",
       "  Communist Party of India CPI                         1\n",
       "  Independents (Janata) SJP                            1\n",
       "                                                      ..\n",
       "Others / Independents IND                              4\n",
       "Revolutionary Socialist Party (Bolshevik) RSPB         1\n",
       "Revolutionary Socialist Party RSP                      2\n",
       "Social Action Party SAP                                1\n",
       "Socialist Republican Party SRP                         1\n",
       "Name: year, Length: 122, dtype: int64"
      ]
     },
     "execution_count": 20,
     "metadata": {},
     "output_type": "execute_result"
    }
   ],
   "source": [
    "# 7. Find total number of year by Political Party\n",
    "ipe.groupby('Political Party').count()['year']"
   ]
  },
  {
   "cell_type": "code",
   "execution_count": 24,
   "id": "92d37a79",
   "metadata": {},
   "outputs": [
    {
     "name": "stderr",
     "output_type": "stream",
     "text": [
      "C:\\Users\\91984\\AppData\\Local\\Temp\\ipykernel_1220\\444001840.py:2: FutureWarning: The default value of numeric_only in DataFrameGroupBy.sum is deprecated. In a future version, numeric_only will default to False. Either specify numeric_only or select only columns which should be valid for the function.\n",
      "  ipe.groupby('Votes').sum()['year']\n"
     ]
    },
    {
     "data": {
      "text/plain": [
       "Votes\n",
       "261        2014\n",
       "320        2019\n",
       "379        2019\n",
       "457        2009\n",
       "546        2014\n",
       "           ... \n",
       "5590285    2014\n",
       "6051905    1999\n",
       "6217161    1986\n",
       "6434486    2009\n",
       "7596610    2019\n",
       "Name: year, Length: 191, dtype: int64"
      ]
     },
     "execution_count": 24,
     "metadata": {},
     "output_type": "execute_result"
    }
   ],
   "source": [
    "# 8.Find total number of year by Votes\n",
    "ipe.groupby('Votes').sum()['year']"
   ]
  },
  {
   "cell_type": "code",
   "execution_count": 25,
   "id": "8099a2c1",
   "metadata": {},
   "outputs": [
    {
     "name": "stderr",
     "output_type": "stream",
     "text": [
      "C:\\Users\\91984\\AppData\\Local\\Temp\\ipykernel_1220\\1413868240.py:2: FutureWarning: The default value of numeric_only in DataFrameGroupBy.sum is deprecated. In a future version, numeric_only will default to False. Either specify numeric_only or select only columns which should be valid for the function.\n",
      "  ipe.groupby(['Votes','Percentage']).sum()['year']\n"
     ]
    },
    {
     "data": {
      "text/plain": [
       "Votes    Percentage\n",
       "261      0.00          2014\n",
       "320      0.00          2019\n",
       "379      0.00          2019\n",
       "457      0.00          2009\n",
       "546      0.00          2014\n",
       "                       ... \n",
       "5590285  31.10         2014\n",
       "6051905  39.35         1999\n",
       "6217161  41.71         1986\n",
       "6434486  40.21         2009\n",
       "7596610  37.27         2019\n",
       "Name: year, Length: 191, dtype: int64"
      ]
     },
     "execution_count": 25,
     "metadata": {},
     "output_type": "execute_result"
    }
   ],
   "source": [
    "# 9.8.Find total number of year by Votes and Percentage\n",
    "ipe.groupby(['Votes','Percentage']).sum()['year']"
   ]
  },
  {
   "cell_type": "code",
   "execution_count": 26,
   "id": "f1985691",
   "metadata": {},
   "outputs": [
    {
     "data": {
      "text/plain": [
       "5058.8099999999995"
      ]
     },
     "execution_count": 26,
     "metadata": {},
     "output_type": "execute_result"
    }
   ],
   "source": [
    "# 10.Find total of Percentage\n",
    "ipe['Percentage'].sum()"
   ]
  },
  {
   "cell_type": "code",
   "execution_count": 27,
   "id": "9b1c4082",
   "metadata": {},
   "outputs": [
    {
     "data": {
      "text/plain": [
       "26.485916230366488"
      ]
     },
     "execution_count": 27,
     "metadata": {},
     "output_type": "execute_result"
    }
   ],
   "source": [
    "# 11.Find Average of Percentage\n",
    "ipe['Percentage'].mean()"
   ]
  },
  {
   "cell_type": "code",
   "execution_count": 28,
   "id": "8202e1ab",
   "metadata": {},
   "outputs": [
    {
     "data": {
      "text/plain": [
       "2053.0"
      ]
     },
     "execution_count": 28,
     "metadata": {},
     "output_type": "execute_result"
    }
   ],
   "source": [
    "# 12.Find Max of Percentage\n",
    "ipe['Percentage'].max()"
   ]
  },
  {
   "cell_type": "code",
   "execution_count": 29,
   "id": "ba1251ee",
   "metadata": {},
   "outputs": [
    {
     "data": {
      "text/plain": [
       "0.0"
      ]
     },
     "execution_count": 29,
     "metadata": {},
     "output_type": "execute_result"
    }
   ],
   "source": [
    "# 13.Find Mini of Percentage\n",
    "ipe['Percentage'].min()"
   ]
  },
  {
   "cell_type": "code",
   "execution_count": 30,
   "id": "c8daf042",
   "metadata": {},
   "outputs": [
    {
     "data": {
      "text/plain": [
       "2014    28\n",
       "2019    27\n",
       "2009    25\n",
       "2004    21\n",
       "1999    18\n",
       "1998    17\n",
       "1984    16\n",
       "1986    15\n",
       "1980    13\n",
       "1977    11\n",
       "Name: year, dtype: int64"
      ]
     },
     "execution_count": 30,
     "metadata": {},
     "output_type": "execute_result"
    }
   ],
   "source": [
    "# 14.Find total number of Year\n",
    "ipe['year'].value_counts()"
   ]
  },
  {
   "cell_type": "code",
   "execution_count": 32,
   "id": "19c4d795",
   "metadata": {},
   "outputs": [
    {
     "data": {
      "text/plain": [
       "Text(0.5, 1.0, 'Votes')"
      ]
     },
     "execution_count": 32,
     "metadata": {},
     "output_type": "execute_result"
    },
    {
     "data": {
      "image/png": "[encoded data removed]",
      "text/plain": [
       "<Figure size 640x480 with 1 Axes>"
      ]
     },
     "metadata": {},
     "output_type": "display_data"
    }
   ],
   "source": [
    "# 15.Create a pie chart to show most vote .\n",
    "pie_label=ipe.Votes.value_counts().index\n",
    "pie_val=ipe.Votes.value_counts().values\n",
    "plt.pie(pie_val[:5],labels=pie_label[:5],autopct='%1.2f%%')\n",
    "plt.title('Votes')"
   ]
  },
  {
   "cell_type": "code",
   "execution_count": 33,
   "id": "4ea3b8a1",
   "metadata": {},
   "outputs": [
    {
     "data": {
      "text/plain": [
       "Index(['Political Party', 'No of Candidates', 'Seats Won', 'Votes',\n",
       "       'Percentage', 'year'],\n",
       "      dtype='object')"
      ]
     },
     "execution_count": 33,
     "metadata": {},
     "output_type": "execute_result"
    }
   ],
   "source": [
    "ipe.columns"
   ]
  },
  {
   "cell_type": "code",
   "execution_count": 34,
   "id": "62f83f05",
   "metadata": {},
   "outputs": [
    {
     "data": {
      "text/plain": [
       "No of Candidates\n",
       "1      67\n",
       "2      36\n",
       "3      12\n",
       "4      17\n",
       "5       7\n",
       "6       2\n",
       "7       2\n",
       "8       3\n",
       "9       3\n",
       "10      4\n",
       "11      2\n",
       "12      1\n",
       "13      2\n",
       "14      4\n",
       "15      4\n",
       "16      3\n",
       "17      4\n",
       "18      1\n",
       "19      3\n",
       "20      4\n",
       "23      1\n",
       "52      1\n",
       "66      1\n",
       "84      1\n",
       "102     1\n",
       "103     1\n",
       "105     1\n",
       "113     1\n",
       "115     1\n",
       "131     1\n",
       "Name: Political Party, dtype: int64"
      ]
     },
     "execution_count": 34,
     "metadata": {},
     "output_type": "execute_result"
    }
   ],
   "source": [
    "# 16. Find total number of Political Party by No of Candidates\n",
    "ipe.groupby('No of Candidates').count()['Political Party']"
   ]
  },
  {
   "cell_type": "code",
   "execution_count": 38,
   "id": "121e916f",
   "metadata": {},
   "outputs": [
    {
     "data": {
      "text/plain": [
       "Political Party\n",
       "  All Kerala MGR Dravida Munnetra Party ADMP           1\n",
       "  Communist Party of India (Marxist-Leninist) CPML     1\n",
       "  Communist Party of India (Marxist-Leninist) CPML     1\n",
       "  Communist Party of India CPI                         1\n",
       "  Independents (Janata) SJP                            1\n",
       "                                                      ..\n",
       "Others / Independents IND                              4\n",
       "Revolutionary Socialist Party (Bolshevik) RSPB         1\n",
       "Revolutionary Socialist Party RSP                      2\n",
       "Social Action Party SAP                                1\n",
       "Socialist Republican Party SRP                         1\n",
       "Name: Seats Won, Length: 122, dtype: int64"
      ]
     },
     "execution_count": 38,
     "metadata": {},
     "output_type": "execute_result"
    }
   ],
   "source": [
    "# 17. Find total number of Political Party by Seats Won\n",
    "ipe.groupby('Political Party').count()['Seats Won']"
   ]
  },
  {
   "cell_type": "code",
   "execution_count": 40,
   "id": "ba172563",
   "metadata": {},
   "outputs": [
    {
     "data": {
      "text/plain": [
       "122"
      ]
     },
     "execution_count": 40,
     "metadata": {},
     "output_type": "execute_result"
    }
   ],
   "source": [
    "# 18.Find the unique  number of Political Party.\n",
    "u1=ipe['Political Party'].unique()\n",
    "len(np.unique(u1))"
   ]
  },
  {
   "cell_type": "code",
   "execution_count": 41,
   "id": "1eaf3317",
   "metadata": {},
   "outputs": [
    {
     "data": {
      "text/plain": [
       "30"
      ]
     },
     "execution_count": 41,
     "metadata": {},
     "output_type": "execute_result"
    }
   ],
   "source": [
    "# 19.Find the unique  number of Candidates.\n",
    "u2=ipe['No of Candidates'].unique()\n",
    "len(np.unique(u2))"
   ]
  },
  {
   "cell_type": "code",
   "execution_count": 42,
   "id": "eb999f31",
   "metadata": {},
   "outputs": [
    {
     "data": {
      "text/plain": [
       "13"
      ]
     },
     "execution_count": 42,
     "metadata": {},
     "output_type": "execute_result"
    }
   ],
   "source": [
    "# 20.Find the unique  number of Seats Won.\n",
    "u3=ipe['Seats Won'].unique()\n",
    "len(np.unique(u3))"
   ]
  },
  {
   "cell_type": "code",
   "execution_count": 43,
   "id": "0a15a434",
   "metadata": {},
   "outputs": [
    {
     "data": {
      "text/plain": [
       "191"
      ]
     },
     "execution_count": 43,
     "metadata": {},
     "output_type": "execute_result"
    }
   ],
   "source": [
    "# 21.Find the unique  number of Votes.\n",
    "u4=ipe['Votes'].unique()\n",
    "len(np.unique(u4))"
   ]
  },
  {
   "cell_type": "code",
   "execution_count": 44,
   "id": "264f809d",
   "metadata": {},
   "outputs": [
    {
     "data": {
      "text/plain": [
       "135"
      ]
     },
     "execution_count": 44,
     "metadata": {},
     "output_type": "execute_result"
    }
   ],
   "source": [
    "# 22.Find the unique  number of Percentage.\n",
    "u5=ipe['Percentage'].unique()\n",
    "len(np.unique(u5))"
   ]
  },
  {
   "cell_type": "code",
   "execution_count": 45,
   "id": "67a3d15c",
   "metadata": {},
   "outputs": [
    {
     "data": {
      "text/plain": [
       "10"
      ]
     },
     "execution_count": 45,
     "metadata": {},
     "output_type": "execute_result"
    }
   ],
   "source": [
    "# 23.Find the unique  number of year.\n",
    "u6=ipe['year'].unique()\n",
    "len(np.unique(u6))"
   ]
  },
  {
   "cell_type": "code",
   "execution_count": 47,
   "id": "b9733001",
   "metadata": {},
   "outputs": [
    {
     "data": {
      "text/plain": [
       "Text(0.5, 1.0, 'Percentage')"
      ]
     },
     "execution_count": 47,
     "metadata": {},
     "output_type": "execute_result"
    },
    {
     "data": {
      "image/png": "[encoded data removed]",
      "text/plain": [
       "<Figure size 640x480 with 1 Axes>"
      ]
     },
     "metadata": {},
     "output_type": "display_data"
    }
   ],
   "source": [
    "# 24 .Create a pie chart to show most Percentage .\n",
    "pie_label=ipe.Percentage.value_counts().index\n",
    "pie_val=ipe.Percentage.value_counts().values\n",
    "plt.pie(pie_val[:5],labels=pie_label[:5],autopct='%1.2f%%')\n",
    "plt.title('Percentage')"
   ]
  },
  {
   "cell_type": "code",
   "execution_count": null,
   "id": "cb5192d8",
   "metadata": {},
   "outputs": [],
   "source": []
  },
  {
   "cell_type": "code",
   "execution_count": null,
   "id": "73de10aa",
   "metadata": {},
   "outputs": [],
   "source": []
  }
 ],
 "metadata": {
  "kernelspec": {
   "display_name": "Python 3 (ipykernel)",
   "language": "python",
   "name": "python3"
  },
  "language_info": {
   "codemirror_mode": {
    "name": "ipython",
    "version": 3
   },
   "file_extension": ".py",
   "mimetype": "text/x-python",
   "name": "python",
   "nbconvert_exporter": "python",
   "pygments_lexer": "ipython3",
   "version": "3.10.9"
  }
 },
 "nbformat": 4,
 "nbformat_minor": 5
}
